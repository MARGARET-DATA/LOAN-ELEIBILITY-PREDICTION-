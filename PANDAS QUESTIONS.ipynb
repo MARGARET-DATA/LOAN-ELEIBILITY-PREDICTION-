{
 "cells": [
  {
   "cell_type": "code",
   "execution_count": 3,
   "id": "a3a483a4",
   "metadata": {},
   "outputs": [],
   "source": [
    "# Import the neccessarily packages\n",
    "import numpy as np\n",
    "import pandas as pd\n",
    "import matplotlib.pyplot  as plt\n",
    "import seaborn as sns\n",
    "import copy "
   ]
  },
  {
   "cell_type": "code",
   "execution_count": null,
   "id": "024890fa",
   "metadata": {},
   "outputs": [],
   "source": [
    "write a code to swap two numbers in pyton "
   ]
  },
  {
   "cell_type": "code",
   "execution_count": 22,
   "id": "fa793308",
   "metadata": {},
   "outputs": [],
   "source": [
    "def swap_numbers(a, b):\n",
    "    a = 3\n",
    "    a = b\n",
    "    b = 15"
   ]
  },
  {
   "cell_type": "code",
   "execution_count": 8,
   "id": "68681fcf",
   "metadata": {},
   "outputs": [
    {
     "name": "stdout",
     "output_type": "stream",
     "text": [
      "Before swap: a = 3, b = 15\n"
     ]
    }
   ],
   "source": [
    "print(f\"Before swap: a = {3}, b = {15}\")"
   ]
  },
  {
   "cell_type": "code",
   "execution_count": 9,
   "id": "f08f9901",
   "metadata": {},
   "outputs": [
    {
     "name": "stdout",
     "output_type": "stream",
     "text": [
      "After swap: a = 15, b = 3\n"
     ]
    }
   ],
   "source": [
    "print(f\"After swap: a = {15}, b = {3}\")"
   ]
  },
  {
   "cell_type": "code",
   "execution_count": null,
   "id": "8913665d",
   "metadata": {},
   "outputs": [],
   "source": []
  },
  {
   "cell_type": "markdown",
   "id": "36e5e1b5",
   "metadata": {},
   "source": [
    "***SHOW  CODE EXAMPLES OF DEEEP AND SHALLOW COPING*** "
   ]
  },
  {
   "cell_type": "markdown",
   "id": "dd975d4b",
   "metadata": {},
   "source": [
    "***SHALLOW COPING***"
   ]
  },
  {
   "cell_type": "code",
   "execution_count": 2,
   "id": "7a2bd391",
   "metadata": {},
   "outputs": [
    {
     "name": "stdout",
     "output_type": "stream",
     "text": [
      "Original list after shallow copy modification: [[100, 2, 3], [4, 5, 6]]\n",
      "Shallow copied list: [[100, 2, 3], [4, 5, 6]]\n"
     ]
    }
   ],
   "source": [
    "import copy\n",
    "\n",
    "# Original list with nested list\n",
    "original_list = [[1, 2, 3], [4, 5, 6]]\n",
    "\n",
    "# Shallow copy of the original list\n",
    "shallow_copied_list = copy.copy(original_list)\n",
    "\n",
    "# Modify the nested list in the shallow copy\n",
    "shallow_copied_list[0][0] = 100\n",
    "\n",
    "# Print both lists\n",
    "print(\"Original list after shallow copy modification:\", original_list)\n",
    "print(\"Shallow copied list:\", shallow_copied_list)"
   ]
  },
  {
   "cell_type": "markdown",
   "id": "44350e48",
   "metadata": {},
   "source": [
    "***DEEP COPYING***"
   ]
  },
  {
   "cell_type": "code",
   "execution_count": 23,
   "id": "33be4455",
   "metadata": {},
   "outputs": [
    {
     "name": "stdout",
     "output_type": "stream",
     "text": [
      "Original list after deep copy modification: [[1, 2, 3], [4, 5, 6]]\n",
      "Deep copied list: [[100, 2, 3], [4, 5, 6]]\n"
     ]
    }
   ],
   "source": [
    "import copy\n",
    "\n",
    "# Original list with nested list\n",
    "original_list = [[1, 2, 3], [4, 5, 6]]\n",
    "\n",
    "# Deep copy of the original list\n",
    "deep_copied_list = copy.deepcopy(original_list)\n",
    "\n",
    "# Modify the nested list in the deep copy\n",
    "deep_copied_list[0][0] = 100\n",
    "\n",
    "# Print both lists\n",
    "print(\"Original list after deep copy modification:\", original_list)\n",
    "print(\"Deep copied list:\", deep_copied_list)"
   ]
  },
  {
   "cell_type": "code",
   "execution_count": null,
   "id": "ea89cf82",
   "metadata": {},
   "outputs": [],
   "source": []
  },
  {
   "cell_type": "markdown",
   "id": "d966fd6d",
   "metadata": {},
   "source": [
    "**WRITE A CODE TO REVERSE MULTIPLE VALUES FROM FUNCTIONS**"
   ]
  },
  {
   "cell_type": "code",
   "execution_count": null,
   "id": "e6f81b69",
   "metadata": {},
   "outputs": [],
   "source": []
  },
  {
   "cell_type": "code",
   "execution_count": null,
   "id": "3bfe9a34",
   "metadata": {},
   "outputs": [],
   "source": [
    "Function that returns multiple values\n",
    "def get_values():\n",
    "    return 1, 2, 3, 4, 5\n",
    "\n",
    "# Call the function and store the returned values\n",
    "values = get_values()\n",
    "\n",
    "# Reverse the values using slicing\n",
    "reversed_values = values[::-1]\n",
    "\n",
    "# Print the original and reversed values\n",
    "print(\"Original values:\", values)\n",
    "print(\"Reversed values:\", reversed_values)"
   ]
  },
  {
   "cell_type": "code",
   "execution_count": null,
   "id": "ff7daadf",
   "metadata": {},
   "outputs": [],
   "source": []
  },
  {
   "cell_type": "markdown",
   "id": "6837cd32",
   "metadata": {},
   "source": [
    "***WHAT ARE THE STEPS TO CREATE 3D, 2D, 1D ARRAYS*** "
   ]
  },
  {
   "cell_type": "code",
   "execution_count": 10,
   "id": "a55a526d",
   "metadata": {},
   "outputs": [],
   "source": [
    "import numpy as np\n",
    "\n",
    "# 1D array using NumPy\n",
    "array_1d = np.array([1, 2, 3, 4, 5])"
   ]
  },
  {
   "cell_type": "code",
   "execution_count": 12,
   "id": "47099ea0",
   "metadata": {},
   "outputs": [
    {
     "data": {
      "text/plain": [
       "array([[[1.+0.j, 2.+0.j, 3.+0.j, 4.+0.j, 5.+0.j]]])"
      ]
     },
     "execution_count": 12,
     "metadata": {},
     "output_type": "execute_result"
    }
   ],
   "source": [
    "arr = np.array(array_1d, ndmin=3, dtype=complex)\n",
    "arr"
   ]
  },
  {
   "cell_type": "code",
   "execution_count": null,
   "id": "86a2e0a2",
   "metadata": {},
   "outputs": [],
   "source": [
    "import numpy as np\n",
    "\n",
    "# 2D array using NumPy\n",
    "array_2d = np.array([\n",
    "    [1, 2, 3],\n",
    "    [4, 5, 6],\n",
    "    [7, 8, 9]\n",
    "])"
   ]
  },
  {
   "cell_type": "code",
   "execution_count": null,
   "id": "cbecd5cf",
   "metadata": {},
   "outputs": [],
   "source": []
  },
  {
   "cell_type": "code",
   "execution_count": null,
   "id": "d5ae6f32",
   "metadata": {},
   "outputs": [],
   "source": [
    "import numpy as np\n",
    "\n",
    "# 3D array using NumPy\n",
    "array_3d = np.array([\n",
    "    [\n",
    "        [1, 2, 3],\n",
    "        [4, 5, 6],\n",
    "        [7, 8, 9]\n",
    "    ],\n",
    "    [\n",
    "        [10, 11, 12],\n",
    "        [13, 14, 15],\n",
    "        [16, 17, 18]\n",
    "    ],\n",
    "    [\n",
    "        [19, 20, 21],\n",
    "        [22, 23, 24],\n",
    "        [25, 26, 27]\n",
    "    ]\n",
    "])"
   ]
  },
  {
   "cell_type": "markdown",
   "id": "94ce66ec",
   "metadata": {},
   "source": [
    "***WRITE A CODE TO TEST FOR MODE IN A LIST OF NUMBERS***"
   ]
  },
  {
   "cell_type": "code",
   "execution_count": 13,
   "id": "c2d91a37",
   "metadata": {},
   "outputs": [
    {
     "name": "stdout",
     "output_type": "stream",
     "text": [
      "The mode is: 4\n"
     ]
    }
   ],
   "source": [
    "import statistics\n",
    "\n",
    "# List of numbers\n",
    "numbers = [1, 2, 2, 3, 4, 4, 4, 5, 5]\n",
    "\n",
    "# Calculate the mode\n",
    "mode_value = statistics.mode(numbers)\n",
    "\n",
    "# Print the mode\n",
    "print(f\"The mode is: {mode_value}\")"
   ]
  },
  {
   "cell_type": "code",
   "execution_count": 18,
   "id": "5fdc14b6",
   "metadata": {},
   "outputs": [
    {
     "name": "stdout",
     "output_type": "stream",
     "text": [
      "mode_value: [[100, 2, 2, 3], [4, 4, 5, 5]]\n",
      "mode_value: [[100, 2, 2, 3], [4, 4, 5, 5]]\n"
     ]
    }
   ],
   "source": [
    "import copy\n",
    "\n",
    "numbers = [[1, 2, 2, 3],[ 4, 4, 5, 5]]\n",
    "\n",
    "\n",
    "# Calculate the mode\n",
    "mode_value = copy.copy(numbers)\n",
    "mode_value[0][0]= 100\n",
    "\n",
    "print(\"mode_value:\", numbers)\n",
    "print(\"mode_value:\",mode_value)"
   ]
  },
  {
   "cell_type": "markdown",
   "id": "ba3b575f",
   "metadata": {},
   "source": [
    "***WRITE A CODE TO add two integers without using the + operator when the numbers are greater than zero***"
   ]
  },
  {
   "cell_type": "code",
   "execution_count": null,
   "id": "f650571d",
   "metadata": {},
   "outputs": [],
   "source": [
    " def add_without_plus_operator(a, b):\n",
    "    while b != 0:\n",
    "        # Calculate carry\n",
    "        carry = a & b\n",
    "    \n",
    "    # Sum of bits where at least one of the bits is not set\n",
    "        a = a ^ b\n",
    "        \n",
    "        # Carry is shifted by one so that adding it to a gives the required sum\n",
    "        b = carry << 1\n",
    "    \n",
    "    return a\n",
    "\n",
    "# Example usage\n",
    "num1 = 15\n",
    "num2 = 25\n",
    "result = add_without_plus_operator(num1, num2)\n",
    "print(f\"The sum of {num1} and {num2} is: {result}\")"
   ]
  },
  {
   "cell_type": "markdown",
   "id": "6b644d0b",
   "metadata": {},
   "source": [
    "***WRITE A program to check if a number is prime in python***"
   ]
  },
  {
   "cell_type": "code",
   "execution_count": null,
   "id": "8ff25d93",
   "metadata": {},
   "outputs": [],
   "source": [
    "def is_prime(n):\n",
    "    if n <= 1:\n",
    "        return False\n",
    "    if n <= 3:\n",
    "        return True\n",
    "    if n % 2 == 0 or n % 3 == 0:\n",
    "        return False\n",
    "    \n",
    "    i = 5\n",
    "    while i * i <= n:\n",
    "        if n % i == 0 or n % (i + 2) == 0:\n",
    "            return False\n",
    "        i += 6\n",
    "    \n",
    "    return True\n",
    "\n",
    "# Example usage\n",
    "num = 29\n",
    "if is_prime(num):\n",
    "    print(f\"{num} is a prime number.\")\n",
    "else:\n",
    "    print(f\"{num} is not a prime number.\")"
   ]
  },
  {
   "cell_type": "code",
   "execution_count": null,
   "id": "3e079c5a",
   "metadata": {},
   "outputs": [],
   "source": []
  },
  {
   "cell_type": "code",
   "execution_count": null,
   "id": "e8124e56",
   "metadata": {},
   "outputs": [],
   "source": []
  },
  {
   "cell_type": "markdown",
   "id": "a01e5da9",
   "metadata": {},
   "source": [
    "***write  a program to calculate the median in python using the Numpy arrays***"
   ]
  },
  {
   "cell_type": "code",
   "execution_count": null,
   "id": "84ecbd10",
   "metadata": {},
   "outputs": [],
   "source": [
    "import numpy as np\n",
    "import statistics\n",
    "\n",
    "# Example list of numbers\n",
    "numbers = [1, 2, 3, 4, 5, 6, 7, 8, 9]\n",
    "\n",
    "# Convert the list to a NumPy array\n",
    "array = np.array(numbers)\n",
    "\n",
    "# Calculate the median\n",
    "median_value = np.median(numbers)\n",
    "\n",
    "# Print the median\n",
    "print(f\"The median is: {median_value}\")"
   ]
  },
  {
   "cell_type": "code",
   "execution_count": null,
   "id": "ec7d7956",
   "metadata": {},
   "outputs": [],
   "source": []
  },
  {
   "cell_type": "code",
   "execution_count": null,
   "id": "ba2bbeb9",
   "metadata": {},
   "outputs": [],
   "source": []
  },
  {
   "cell_type": "code",
   "execution_count": null,
   "id": "091d441f",
   "metadata": {},
   "outputs": [],
   "source": []
  },
  {
   "cell_type": "code",
   "execution_count": null,
   "id": "53afe68f",
   "metadata": {},
   "outputs": [],
   "source": []
  },
  {
   "cell_type": "code",
   "execution_count": null,
   "id": "423eb986",
   "metadata": {},
   "outputs": [],
   "source": []
  }
 ],
 "metadata": {
  "kernelspec": {
   "display_name": "Python 3 (ipykernel)",
   "language": "python",
   "name": "python3"
  },
  "language_info": {
   "codemirror_mode": {
    "name": "ipython",
    "version": 3
   },
   "file_extension": ".py",
   "mimetype": "text/x-python",
   "name": "python",
   "nbconvert_exporter": "python",
   "pygments_lexer": "ipython3",
   "version": "3.9.13"
  }
 },
 "nbformat": 4,
 "nbformat_minor": 5
}
